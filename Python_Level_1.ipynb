{
  "nbformat": 4,
  "nbformat_minor": 0,
  "metadata": {
    "colab": {
      "name": "Python Level 1.ipynb",
      "version": "0.3.2",
      "provenance": [],
      "collapsed_sections": [],
      "include_colab_link": true
    },
    "kernelspec": {
      "name": "python3",
      "display_name": "Python 3"
    }
  },
  "cells": [
    {
      "cell_type": "markdown",
      "metadata": {
        "id": "view-in-github",
        "colab_type": "text"
      },
      "source": [
        "<a href=\"https://colab.research.google.com/github/Aravind1444/Introduction-to-Python/blob/master/Python_Level_1.ipynb\" target=\"_parent\"><img src=\"https://colab.research.google.com/assets/colab-badge.svg\" alt=\"Open In Colab\"/></a>"
      ]
    },
    {
      "metadata": {
        "id": "nvOW8bH-YWz4",
        "colab_type": "text"
      },
      "cell_type": "markdown",
      "source": [
        "# <a name='table'></a> Table of Content\n",
        "\n",
        "1. [Python Introduction](#Introduction)\n",
        "\n",
        "  *  [Introduction](#What)\n",
        "  *  [Installing Anaconda and pip](#Install)\n",
        "  *  [Opening the interface](#interface)\n",
        "  \n",
        "2. [Basics of python](#basics)\n",
        "  * [First lines in python](#first line)\n",
        "  * [Python syntax](#python syntax)\n",
        "  * [Variables](#variables)\n",
        "  * [Numbers](#python numbers)\n",
        "  * [Strings](#python strings)\n",
        "  * [Operators](#python operators)\n",
        "\n",
        "3. [Data structures](#data structures)\n",
        "  * [Arrays](#arrays)\n",
        "  * [List](#list)\n",
        "  * [Tuple](#tuple)\n",
        "  * [Set](#set)\n",
        "  * [Dictionary](#dictionary)\n",
        "\n",
        "4. [Control structures](#control)\n",
        "  * [Conditional statements](#conditional)\n",
        "  * [Loops](#loops)\n",
        "\n",
        "5. [Functions](#functions)\n",
        "  * [Intro](#functions)\n",
        "  * [Recursion](#recursion)\n",
        "  * [Python Lambda](#lambda)"
      ]
    },
    {
      "metadata": {
        "id": "NlYL2-cAptDp",
        "colab_type": "text"
      },
      "cell_type": "markdown",
      "source": [
        "#1.<a name='Introduction'></a> Python Introduction"
      ]
    },
    {
      "metadata": {
        "id": "-hhDXoYeGTNu",
        "colab_type": "text"
      },
      "cell_type": "markdown",
      "source": [
        "## <a name=\"What\"></a>  What is Python?\n",
        "\n",
        "Python is an interpreted, object-oriented, high-level programming language with dynamic semantics. Its high-level built in data structures, combined with dynamic typing and dynamic binding, make it very attractive for Rapid Application Development, as well as for use as a scripting or glue language to connect existing components together. Python's simple, easy to learn syntax emphasizes readability and therefore reduces the cost of program maintenance. Python supports modules and packages, which encourages program modularity and code reuse. The Python interpreter and the extensive standard library are available in source or binary form without charge for all major platforms, and can be freely distributed.\n",
        "    \"Often, programmers fall in love with Python because of the increased productivity it provides. Since there is no compilation step, the edit-test-debug cycle is incredibly fast. Debugging Python programs is easy: a bug or bad input will never cause a segmentation fault. Instead, when the interpreter discovers an error, it raises an exception. When the program doesn't catch the exception, the interpreter prints a stack trace. A source level debugger allows inspection of local and global variables, evaluation of arbitrary expressions, setting breakpoints, stepping through the code a line at a time, and so on. The debugger is written in Python itself, testifying to Python's introspective power. On the other hand, often the quickest way to debug a program is to add a few print statements to the source: the fast edit-test-debug cycle makes this simple approach very effective.\n",
        "    2 versions of Python is available for download. Python 2.x and 3.x (x represents the sub-version number). Versions in 2.x are older and does not have future support. It will be better to download 3.6 (3.7 is currently available). You can access the download page from here: https://www.python.org/downloads/ . After downloading python, you can check the version of the python installed by using this command on the terminal ' python --version '. This will print the ersion number of the Python installed."
      ]
    },
    {
      "metadata": {
        "id": "VFmfGYxvISL_",
        "colab_type": "text"
      },
      "cell_type": "markdown",
      "source": [
        "## <a name=\"Install\"></a> Installing Anaconda\n",
        "\n",
        "After installing Python 3.6 (or 3.x) properly, what you have got to do next is to download Anaconda distribution. The open source Anaconda Distribution is the fastest and easiest way to do Python and R data science and machine learning on Linux, Windows, and Mac OS X. It's the industry standard for developing, testing, and training on a single machine. You can download the latest version of Anaconda from here: https://www.anaconda.com/download/ . While installing Anaconda, some of the essential learning packages will also get installed (Jupyter Notebook, etc). \n",
        "\n",
        "\n",
        "Once Anaconda has been downloaded, pip has to be installed. Pip is a package management system used to install and manage software packages written in Python. Sometimes you will have to install some packages that are not available for download via Anaconda. In that situtaion, the best alternative is to call the package that have to be downloaded using pip.\n",
        "\n",
        "## Installing pip\n",
        "\n",
        "To download pip, open the Anaconda Prompt (open search in your system and search for Anaconda Propmpt). Onc you have opened that, eneter the following command ' conda install -c anaconda pip '.\n",
        "\n",
        "Now, after installing pip, if you want to download any packages, just use the commands like this; ' pip install h5py ' or 'pip install tensorflow ', etc . "
      ]
    },
    {
      "metadata": {
        "id": "1gm57EcUIhih",
        "colab_type": "text"
      },
      "cell_type": "markdown",
      "source": [
        "## <a name=\"interface\"></a> Opening the Interface\n",
        "\n",
        "Now, we have dealt with basic stuffs for getting started to work on Python. You have the following options to start writing some lines in python:\n",
        "\n",
        "1. Using Colab - Colab is a powerful GPU accelerated platform provided by Google for free. It supports Python 3. You can connect your notebook to a power GPU as well. The best part is that, it is available for free. You can aslo save it your drive, etc. Access Collab here : [Google Collab](https://https://colab.research.google.com/notebooks/welcome.ipynb). Select File option and then select new Python 3 notebook.\n",
        "\n",
        "2. Use Jupyter Notebook - To activate Jupyter Notebook, open your Anaconda Prompt and enter the following command ' Jupyter Notebook '. Within a few seconds, Jupyter Notebook will be activated on your default browser page. In that, some of the files in your system will be shown. You can even create a new folder from that page. On the top right side, you will find a 'new' option. When you click on that,you will see an option 'Python 3' under Notebook. You will be taken to another page where you can start writing some lines in python.[ press shift+enter to run the file easily and to launch next line]\n",
        "\n",
        "3. Python IDLE - Just search for Python IDLE (GUI) in your system and and launch that. Select 'File' option and select 'New' . This will launch a new interface, where you can start programming. Save the file before running it.\n",
        "\n",
        "4. Another method is to download editors like Sublime or atom. It is better to use Collab now (for learning).\n",
        "\n",
        "So, get ready to write some code in python :)"
      ]
    },
    {
      "metadata": {
        "id": "MMHUfBFqqNX-",
        "colab_type": "text"
      },
      "cell_type": "markdown",
      "source": [
        "**[Go to Top](#table)**"
      ]
    },
    {
      "metadata": {
        "id": "DgFXJS0tpbRa",
        "colab_type": "text"
      },
      "cell_type": "markdown",
      "source": [
        "# 2. <a name=\"basics\"></a>Basics of Python\n",
        "\n",
        "\n",
        "\n"
      ]
    },
    {
      "metadata": {
        "id": "XRwZZvavL5pd",
        "colab_type": "text"
      },
      "cell_type": "markdown",
      "source": [
        "##<a name=\"first line\"></a> First Lines in Python\n",
        "\n",
        "So, we're going to start off with python. As usual, we will start by writing a programme for printing Hello World! \n",
        "\n",
        "After opening a new collab notebook, click on \"code\" below the File button and type the given code there and run it. \n",
        "\n"
      ]
    },
    {
      "metadata": {
        "id": "-QDdOd6yL4V8",
        "colab_type": "code",
        "colab": {}
      },
      "cell_type": "code",
      "source": [
        "print(\"Hello World!\")"
      ],
      "execution_count": 0,
      "outputs": []
    },
    {
      "metadata": {
        "id": "hw-sMcmSMmwx",
        "colab_type": "text"
      },
      "cell_type": "markdown",
      "source": [
        "To run the code, press shift+enter. Initially, it will take some time for the notebook to connect to the server. Within 10 seconds (initial wait time) output will be shown."
      ]
    },
    {
      "metadata": {
        "id": "T23YXTUdO3ir",
        "colab_type": "text"
      },
      "cell_type": "markdown",
      "source": [
        "## <a name=\"python syntax\"></a>Python Syntax\n",
        "\n",
        "### Python Identations\n",
        "\n",
        "Where in other programming languages the indentation in code is for readability only, in Python the indentation is very important.\n",
        "\n",
        "Python uses indentation to indicate a block of code. Python will give you error if you don't use indentation properly. Let's take an example. First one is without proper identation and the second one is a proper code. Go ahead and run it (when you keep the cursor inside the square box on the left side or each block, you will find an option to run that block, individually.)"
      ]
    },
    {
      "metadata": {
        "id": "zUElvwN8MgvT",
        "colab_type": "code",
        "colab": {}
      },
      "cell_type": "code",
      "source": [
        "if 5 > 2:\n",
        "\n",
        "print(\"Five is greater than two!\")\n"
      ],
      "execution_count": 0,
      "outputs": []
    },
    {
      "metadata": {
        "id": "ts5BwctrPRH9",
        "colab_type": "code",
        "colab": {}
      },
      "cell_type": "code",
      "source": [
        "if 5 > 2:\n",
        "  print(\"Five is greater than two!\")\n"
      ],
      "execution_count": 0,
      "outputs": []
    },
    {
      "metadata": {
        "id": "_umfIWPIPzCP",
        "colab_type": "text"
      },
      "cell_type": "markdown",
      "source": [
        "### Comments\n",
        "Python has commenting capability for the purpose of in-code documentation. Comments start with a '#', and Python will render the rest of the line as a comment: "
      ]
    },
    {
      "metadata": {
        "id": "virYwJrvPqBb",
        "colab_type": "code",
        "colab": {}
      },
      "cell_type": "code",
      "source": [
        "#This is a comment.\n",
        "print(\"Hello, World!\")"
      ],
      "execution_count": 0,
      "outputs": []
    },
    {
      "metadata": {
        "id": "EK93S7piQMaJ",
        "colab_type": "text"
      },
      "cell_type": "markdown",
      "source": [
        "### Docstrings\n",
        "\n",
        "Python also has extended documentation capability, called docstrings. Docstrings can be one line, or multiline. Python uses triple quotes at the beginning and end of the docstring:"
      ]
    },
    {
      "metadata": {
        "id": "B4Dvv5HmQUBd",
        "colab_type": "code",
        "colab": {}
      },
      "cell_type": "code",
      "source": [
        "\"\"\"This is a \n",
        "multiline\n",
        "docstring.\"\"\"\n",
        "print(\"Hello, World!\")"
      ],
      "execution_count": 0,
      "outputs": []
    },
    {
      "metadata": {
        "id": "B0ISXuxFRQM9",
        "colab_type": "text"
      },
      "cell_type": "markdown",
      "source": [
        "## <a name=\"variables\"></a>Variables\n",
        "\n",
        "### Creating Variables\n",
        "Unlike other programming languages, Python has no command for declaring a variable. A variable is created the moment you first assign a value to it. For example;"
      ]
    },
    {
      "metadata": {
        "id": "zWNlReBARG6a",
        "colab_type": "code",
        "colab": {}
      },
      "cell_type": "code",
      "source": [
        "x = 5\n",
        "y = \"John\"\n",
        "print(x)\n",
        "print(y)"
      ],
      "execution_count": 0,
      "outputs": []
    },
    {
      "metadata": {
        "id": "gZG0f5LpRpWy",
        "colab_type": "text"
      },
      "cell_type": "markdown",
      "source": [
        "Variables do not need to be declared with any particular type and can even change type after they have been set. This is one of the many advantages of python compared to other languages."
      ]
    },
    {
      "metadata": {
        "id": "MQSTKWYORk0B",
        "colab_type": "code",
        "colab": {}
      },
      "cell_type": "code",
      "source": [
        "x = 4 # x is of type int\n",
        "x = \"Sally\" # x is now of type str\n",
        "print(x)"
      ],
      "execution_count": 0,
      "outputs": []
    },
    {
      "metadata": {
        "id": "IRAPUkUTR86E",
        "colab_type": "text"
      },
      "cell_type": "markdown",
      "source": [
        "### Variable Names\n",
        "A variable can have a short name (like x and y) or a more descriptive name (age, carname, total_volume). Rules for Python variables:\n",
        "A variable name must start with a letter or the underscore character.\n",
        "A variable name cannot start with a number.\n",
        "A variable name can only contain alpha-numeric characters and underscores (A-z, 0-9, and _ ).\n",
        "Variable names are case-sensitive (age, Age and AGE are three different variables). The variable should be separated using underscore and not with space."
      ]
    },
    {
      "metadata": {
        "id": "CxWNJSM1SY5p",
        "colab_type": "text"
      },
      "cell_type": "markdown",
      "source": [
        "### Output Variables\n",
        "The Python print statement is often used to output variables. To combine both text and a variable, Python uses the + character:"
      ]
    },
    {
      "metadata": {
        "id": "INwDjsq6Sd63",
        "colab_type": "code",
        "colab": {}
      },
      "cell_type": "code",
      "source": [
        "x = \"awesome\"\n",
        "print(\"Python is \" + x)"
      ],
      "execution_count": 0,
      "outputs": []
    },
    {
      "metadata": {
        "id": "1ou58SrHSlr_",
        "colab_type": "text"
      },
      "cell_type": "markdown",
      "source": [
        "You can also use the + character to add a variable to another variable (first example). For numbers, the + character works as a mathematical operator (second example)\n",
        "\n"
      ]
    },
    {
      "metadata": {
        "id": "7faboisTSmTX",
        "colab_type": "code",
        "colab": {}
      },
      "cell_type": "code",
      "source": [
        "x = \"Python is \"\n",
        "y = \"awesome\"\n",
        "z =  x + y\n",
        "print(x+y)"
      ],
      "execution_count": 0,
      "outputs": []
    },
    {
      "metadata": {
        "id": "Eu7ehhIAS3Xk",
        "colab_type": "code",
        "colab": {}
      },
      "cell_type": "code",
      "source": [
        "x = 5\n",
        "y = 10\n",
        "print(x + y)\n"
      ],
      "execution_count": 0,
      "outputs": []
    },
    {
      "metadata": {
        "id": "ivn-qH70S7wi",
        "colab_type": "text"
      },
      "cell_type": "markdown",
      "source": [
        "If you try to combine a string and a number, Python will give you an error:\n",
        "\n"
      ]
    },
    {
      "metadata": {
        "id": "0p63wERTS6vC",
        "colab_type": "code",
        "colab": {}
      },
      "cell_type": "code",
      "source": [
        "x = 5\n",
        "y = \"John\"\n",
        "print(x + y)\n"
      ],
      "execution_count": 0,
      "outputs": []
    },
    {
      "metadata": {
        "id": "ZWPUDy7rTkvC",
        "colab_type": "text"
      },
      "cell_type": "markdown",
      "source": [
        "## <a name=\"python numbers\"></a>Numbers\n",
        "\n"
      ]
    },
    {
      "metadata": {
        "id": "5aG5_ml_EtGS",
        "colab_type": "text"
      },
      "cell_type": "markdown",
      "source": [
        "There are three numeric types in Python:\n",
        "\n",
        "- **int**\n",
        "\n",
        "- **float**\n",
        "\n",
        "- **complex**\n",
        "\n",
        "Variables of numeric types are created when you assign a value to them:"
      ]
    },
    {
      "metadata": {
        "id": "w5sGxqhITuL5",
        "colab_type": "code",
        "colab": {}
      },
      "cell_type": "code",
      "source": [
        "x = 1    # int\n",
        "y = 2.8  # float\n",
        "z = 1j   # complex"
      ],
      "execution_count": 0,
      "outputs": []
    },
    {
      "metadata": {
        "id": "K3geZbxzTu0f",
        "colab_type": "text"
      },
      "cell_type": "markdown",
      "source": [
        "To verify the type of any object in Python, use the type() function:\n",
        "\n"
      ]
    },
    {
      "metadata": {
        "id": "dEsi7NX1TzHi",
        "colab_type": "code",
        "colab": {}
      },
      "cell_type": "code",
      "source": [
        "print(type(x))\n",
        "print(type(y))\n",
        "print(type(z))\n"
      ],
      "execution_count": 0,
      "outputs": []
    },
    {
      "metadata": {
        "id": "n43dQlajTzsG",
        "colab_type": "text"
      },
      "cell_type": "markdown",
      "source": [
        "### Int\n",
        "Int, or integer, is a whole number, positive or negative, without decimals, of unlimited length."
      ]
    },
    {
      "metadata": {
        "id": "g2UW7rTqT1lM",
        "colab_type": "code",
        "colab": {}
      },
      "cell_type": "code",
      "source": [
        "x = 1\n",
        "y = 35656222554887711\n",
        "z = -3255522\n",
        "\n",
        "print(type(x))\n",
        "print(type(y))\n",
        "print(type(z))"
      ],
      "execution_count": 0,
      "outputs": []
    },
    {
      "metadata": {
        "id": "ZMKS7lKZT4ni",
        "colab_type": "text"
      },
      "cell_type": "markdown",
      "source": [
        "### Float\n",
        "\n",
        "Float, or \"floating point number\" is a number, positive or negative, containing one or more decimals.\n",
        "Float can also be scientific numbers with an \"e\" to indicate the power of 10."
      ]
    },
    {
      "metadata": {
        "id": "0qxaGArgUKdB",
        "colab_type": "code",
        "colab": {}
      },
      "cell_type": "code",
      "source": [
        "x = 1.10\n",
        "y = 1.0\n",
        "z = -35.59\n",
        "\n",
        "print(type(x)) the\n",
        "print(type(y))\n",
        "print(type(z))"
      ],
      "execution_count": 0,
      "outputs": []
    },
    {
      "metadata": {
        "id": "-xCjENIWUT_H",
        "colab_type": "code",
        "colab": {}
      },
      "cell_type": "code",
      "source": [
        "x = 35e3\n",
        "y = 12E4\n",
        "z = -87.7e100\n",
        "\n",
        "print(type(x))\n",
        "print(type(y))\n",
        "print(type(z))"
      ],
      "execution_count": 0,
      "outputs": []
    },
    {
      "metadata": {
        "id": "Rhv3kXEZUV84",
        "colab_type": "text"
      },
      "cell_type": "markdown",
      "source": [
        "### Complex\n",
        "\n",
        "Complex numbers are written with a \"j\" as the imaginary part:"
      ]
    },
    {
      "metadata": {
        "id": "o_RA5iwJUapf",
        "colab_type": "code",
        "colab": {}
      },
      "cell_type": "code",
      "source": [
        "  x = 3+5j\n",
        "y = 5j\n",
        "z = -5j\n",
        "\n",
        "print(type(x))\n",
        "print(type(y))\n",
        "print(type(z))"
      ],
      "execution_count": 0,
      "outputs": []
    },
    {
      "metadata": {
        "id": "4wjB2Mt2wibK",
        "colab_type": "text"
      },
      "cell_type": "markdown",
      "source": [
        "## <a name=\"python strings\"></a> Strings"
      ]
    },
    {
      "metadata": {
        "id": "KZ4ugsUcVGNQ",
        "colab_type": "text"
      },
      "cell_type": "markdown",
      "source": [
        "### String Literals\n",
        "String literals in python are surrounded by either single quotation marks, or double quotation marks.\n",
        "\n",
        "'hello' is the same as \"hello\".\n",
        "\n",
        "Strings can be output to screen using the print function. For example: print(\"hello\"). Like many other popular programming languages, strings in Python are arrays of bytes representing unicode characters. However, Python does not have a character data type, a single character is simply a string with a length of 1. Square brackets can be used to access elements of the string.\n",
        "\n",
        "Example\n",
        "\n",
        "Get the character at position 1 (remember that the first character has the position 0):"
      ]
    },
    {
      "metadata": {
        "id": "RD6UM7mcVP5s",
        "colab_type": "code",
        "colab": {}
      },
      "cell_type": "code",
      "source": [
        "a = \"Hello, World!\"\n",
        "print(a[1])"
      ],
      "execution_count": 0,
      "outputs": []
    },
    {
      "metadata": {
        "id": "Nza2IvX2VQhg",
        "colab_type": "text"
      },
      "cell_type": "markdown",
      "source": [
        "###Substring \n",
        "Get the characters from position 2 to position 5 (not included)"
      ]
    },
    {
      "metadata": {
        "id": "NT6bracRViJq",
        "colab_type": "code",
        "colab": {}
      },
      "cell_type": "code",
      "source": [
        "b = \"Hello, World!\"\n",
        "print(b[2:5])"
      ],
      "execution_count": 0,
      "outputs": []
    },
    {
      "metadata": {
        "id": "3iqbNYnhVmZ9",
        "colab_type": "text"
      },
      "cell_type": "markdown",
      "source": [
        "###The strip() Method\n",
        "This method removes any whitespace from the beginning or the end"
      ]
    },
    {
      "metadata": {
        "id": "VD7Oi_9fVuPQ",
        "colab_type": "code",
        "colab": {}
      },
      "cell_type": "code",
      "source": [
        "a = \" Hello, World! \"\n",
        "print(a.strip()) # returns \"Hello, World!\"\n"
      ],
      "execution_count": 0,
      "outputs": []
    },
    {
      "metadata": {
        "id": "LA5LUu_BVy95",
        "colab_type": "text"
      },
      "cell_type": "markdown",
      "source": [
        "###The len() method\n",
        "The len() method returns the length of a string:"
      ]
    },
    {
      "metadata": {
        "id": "1nRdsrweV38M",
        "colab_type": "code",
        "colab": {}
      },
      "cell_type": "code",
      "source": [
        "a = \"Hello, World!\"\n",
        "print(len(a))"
      ],
      "execution_count": 0,
      "outputs": []
    },
    {
      "metadata": {
        "id": "4I_S10alWAoq",
        "colab_type": "text"
      },
      "cell_type": "markdown",
      "source": [
        "###The lower() method\n",
        "This method returns the string in lower case:\n",
        "\n",
        "\n",
        "###The upper() method\n",
        "This method returns the string in upper case:\n",
        "\n",
        "\n",
        "\n",
        "###The replace() method\n",
        "This method replaces a string with another string:\n",
        "\n",
        "\n",
        "\n",
        "###The split() method \n",
        "This method splits the string into substrings if it finds instances of the separator:\n",
        "\n",
        "\n",
        "\n"
      ]
    },
    {
      "metadata": {
        "id": "dNOBUNW8WgKt",
        "colab_type": "code",
        "colab": {}
      },
      "cell_type": "code",
      "source": [
        "a = \"Hello, World!\"\n",
        "print(a.lower())"
      ],
      "execution_count": 0,
      "outputs": []
    },
    {
      "metadata": {
        "id": "aCinnea0WiWr",
        "colab_type": "code",
        "colab": {}
      },
      "cell_type": "code",
      "source": [
        "a = \"Hello, World!\"\n",
        "print(a.upper())\n"
      ],
      "execution_count": 0,
      "outputs": []
    },
    {
      "metadata": {
        "id": "FpFoMWxEWltz",
        "colab_type": "code",
        "colab": {}
      },
      "cell_type": "code",
      "source": [
        "a = \"Hello, World!\"\n",
        "print(a.replace(\"H\", \"J\"))"
      ],
      "execution_count": 0,
      "outputs": []
    },
    {
      "metadata": {
        "id": "RUqifk9LWpI0",
        "colab_type": "code",
        "colab": {}
      },
      "cell_type": "code",
      "source": [
        "a = \"Hello, World!\"\n",
        "print(a.split(\",\")) # returns ['Hello', ' World!']"
      ],
      "execution_count": 0,
      "outputs": []
    },
    {
      "metadata": {
        "id": "nCa9g4cEWtR_",
        "colab_type": "text"
      },
      "cell_type": "markdown",
      "source": [
        "### Command-line String Input\n",
        "Python allows for command line input.\n",
        "That means we are able to ask the user for input.\n",
        "The following example asks for the user's name, then, by using the input() method, the program prints the name to the screen:\n"
      ]
    },
    {
      "metadata": {
        "id": "aad3UwF-W1Ek",
        "colab_type": "code",
        "colab": {}
      },
      "cell_type": "code",
      "source": [
        "print(\"Enter your name:\")\n",
        "x = input()\n",
        "print(\"Hello, \" + x)\n",
        "\n"
      ],
      "execution_count": 0,
      "outputs": []
    },
    {
      "metadata": {
        "id": "HkBi-DJOXTzn",
        "colab_type": "code",
        "colab": {}
      },
      "cell_type": "code",
      "source": [
        "#The above program can also be written as:\n",
        "\n",
        "a= input('Enter your name: ')\n",
        "print(\"Hello, \"+a)"
      ],
      "execution_count": 0,
      "outputs": []
    },
    {
      "metadata": {
        "id": "2Jis_3xWwC3Z",
        "colab_type": "text"
      },
      "cell_type": "markdown",
      "source": [
        "## <a name=\"python operators\"></a> Operators\n",
        "\n",
        "\n"
      ]
    },
    {
      "metadata": {
        "id": "5oewTGHmEnrf",
        "colab_type": "text"
      },
      "cell_type": "markdown",
      "source": [
        "Operators are used to perform operations on variables and values.\n",
        "Python divides the operators in the following groups:\n",
        "\n",
        "* Arithmetic operators\n",
        "\n",
        "* Assignment operators\n",
        "\n",
        "* Comparison operators\n",
        "\n",
        "* Logical operators\n",
        "\n",
        "* Identity operators\n",
        "\n",
        "* Membership operators\n",
        "\n",
        "* Bitwise operators"
      ]
    },
    {
      "metadata": {
        "id": "QWRoFk0lEaiv",
        "colab_type": "text"
      },
      "cell_type": "markdown",
      "source": [
        "### Arithmetic Operators\n",
        "Arithmetic operators are used with numeric values to perform common mathematical operations:\n",
        "  +\tAddition\tx + y\t\n",
        "  -\tSubtraction\tx - y\t\n",
        "  *\tMultiplication\tx * y\t\n",
        "  +\tDivision\tx / y\t/\n",
        "  + Modulus\tx % y\t\n",
        "  +\tExponentiation\tx ** y \n",
        "  + Floor division\tx // y\n",
        "\n",
        "\n",
        "### Assignment Operators\n",
        "Assignment operators are used to assign values to variables\n",
        "\n",
        "### Comparison Operators\n",
        "Comparison operators are used to compare two values:\n",
        "\n",
        "\n",
        "+ ==\tEqual\tx == y\t\n",
        "+ !=\tNot equal\tx != y\t\n",
        "+\tGreater than\tx > y\t\n",
        "+ <\tLess than\tx < y\t\n",
        "+ Greater than or equal to\tx >= y\t\n",
        "+ <=\tLess than or equal to\tx <= y\n",
        "\n",
        "\n",
        "\n",
        "### Logical Operators\n",
        "Logical operators are used to combine conditional statements:\n",
        "\n",
        "+ **and** \tReturns True if both statements are true\t(x < 5 **and**  x < 10)\n",
        "+ **or**\tReturns True if one of the statements is true\t(x < 5 **or** x < 4\t)\n",
        "+ **not**\tReverse the result, returns False if the result is (true\tnot(x < 5 **and** x < 10))\n",
        "\n",
        "\n",
        "\n",
        "### Identity Operators\n",
        "Identity operators are used to compare the objects, not if they are equal, but if they are actually the same object, with the same memory location:\n",
        "\n",
        "\n",
        "+ **is** \tReturns true if both variables are the same object\t(x **is** y)\t\n",
        "+ **is** not\tReturns true if both variables are not the same object\t(x **is not** y)\n",
        "\n",
        "\n",
        "### Membership Operators\n",
        "Membership operators are used to test if a sequence is presented in an object:\n",
        "\n",
        "+ **in** \tReturns True if a sequence with the specified value is present in the object\t{x in y}\t\n",
        "+ **not in**\tReturns True if a sequence with the specified value is not present in the object\t{x **not in** y\t}\n",
        "\n",
        "\n",
        "\n",
        "### Bitwise Operators\n",
        "Logical operators are used to combine conditional statements:\n",
        "\n",
        "+ **& -\tAND**\tSets each bit to 1 if both bits are 1\n",
        "+ **| -\tOR**\tSets each bit to 1 if one of two bits is 1\n",
        "+ **^ -\tXOR**\tSets each bit to 1 if only one of two bits is 1\n",
        "+ **~ -\tNOT**\tInverts all the bits\n",
        "+ **<<**\tZero fill left shift\tShift left by pushing zeros in from the right and let the leftmost bits fall off\n",
        "+ (**>>**)Signed right shift\tShift right by pushing copies of the leftmost bit in from the left, and let the rightmost bits fall off"
      ]
    },
    {
      "metadata": {
        "colab_type": "text",
        "id": "O9e5Lb4v1xEM"
      },
      "cell_type": "markdown",
      "source": [
        "**[Go to Top](#table)**"
      ]
    },
    {
      "metadata": {
        "id": "yWtev0gSrppI",
        "colab_type": "text"
      },
      "cell_type": "markdown",
      "source": [
        "# 3. <a name=\"data structures\"></a>Data structures "
      ]
    },
    {
      "metadata": {
        "id": "lLJgMqBgJ4MF",
        "colab_type": "text"
      },
      "cell_type": "markdown",
      "source": [
        "## <a name=\"arrays\"></a>Arrays\n",
        "\n",
        "Arrays are used to store multiple values in one single variable:"
      ]
    },
    {
      "metadata": {
        "id": "7byvxo0_J82A",
        "colab_type": "code",
        "colab": {}
      },
      "cell_type": "code",
      "source": [
        "#Create an array containing car names:\n",
        "\n",
        "cars = [\"Ford\", \"Volvo\", \"BMW\"]"
      ],
      "execution_count": 0,
      "outputs": []
    },
    {
      "metadata": {
        "id": "wa8s_mNdKCYQ",
        "colab_type": "text"
      },
      "cell_type": "markdown",
      "source": [
        "### What is an Array?\n",
        "An array is a special variable, which can hold more than one value at a time.\n",
        "\n",
        "If you have a list of items (a list of car names, for example), storing the cars in single variables could look like this:\n",
        "\n",
        "car1 = \"Ford\";\n",
        "\n",
        "car2 = \"Volvo\";\n",
        "\n",
        "car3 = \"BMW\";\n",
        "\n",
        "However, what if you want to loop through the cars and find a specific one? And what if you had not 3 cars, but 300?\n",
        "\n",
        "The solution is an array!\n",
        "\n",
        "An array can hold many values under a single name, and you can access the values by referring to an index number.\n",
        "\n",
        "Note: Python does not have built-in support for Arrays, but Python lists can be used instead."
      ]
    },
    {
      "metadata": {
        "id": "2UmYDTWLKSnB",
        "colab_type": "text"
      },
      "cell_type": "markdown",
      "source": [
        "###Access the Elements of an Array\n",
        "You refer to an array element by referring to the index number."
      ]
    },
    {
      "metadata": {
        "id": "j31sGOGcJjGF",
        "colab_type": "code",
        "colab": {}
      },
      "cell_type": "code",
      "source": [
        ""
      ],
      "execution_count": 0,
      "outputs": []
    },
    {
      "metadata": {
        "id": "YA-XPBTCKUr3",
        "colab_type": "code",
        "colab": {}
      },
      "cell_type": "code",
      "source": [
        "#Get the value of the first array item:\n",
        "\n",
        "x = cars[0]"
      ],
      "execution_count": 0,
      "outputs": []
    },
    {
      "metadata": {
        "id": "oPoEIoDrKW8n",
        "colab_type": "code",
        "colab": {}
      },
      "cell_type": "code",
      "source": [
        "#Modify the value of the first array item:\n",
        "\n",
        "cars[0] = \"Toyota\""
      ],
      "execution_count": 0,
      "outputs": []
    },
    {
      "metadata": {
        "id": "1mgzBNyzKbyp",
        "colab_type": "text"
      },
      "cell_type": "markdown",
      "source": [
        "###The Length of an Array\n",
        "Use the len() method to return the length of an array (the number of elements in an array)."
      ]
    },
    {
      "metadata": {
        "id": "AAR4PThCKfDD",
        "colab_type": "code",
        "colab": {}
      },
      "cell_type": "code",
      "source": [
        "#Return the number of elements in the cars array:\n",
        "\n",
        "x = len(cars)"
      ],
      "execution_count": 0,
      "outputs": []
    },
    {
      "metadata": {
        "id": "GTm6PwRRKd--",
        "colab_type": "text"
      },
      "cell_type": "markdown",
      "source": [
        "**Note: The length of an array is always one more than the highest array index.**\n",
        "\n"
      ]
    },
    {
      "metadata": {
        "id": "sCsNxDn1KrQE",
        "colab_type": "text"
      },
      "cell_type": "markdown",
      "source": [
        "\n",
        "###Looping Array Elements\n",
        "You can use the for in loop to loop through all the elements of an array."
      ]
    },
    {
      "metadata": {
        "id": "7yks6Od-KtaC",
        "colab_type": "code",
        "colab": {}
      },
      "cell_type": "code",
      "source": [
        "#Print each item in the cars array:\n",
        "\n",
        "for x in cars:\n",
        "  print(x)"
      ],
      "execution_count": 0,
      "outputs": []
    },
    {
      "metadata": {
        "id": "iCR4CUTbKxI5",
        "colab_type": "text"
      },
      "cell_type": "markdown",
      "source": [
        "### Adding Array Elements\n",
        "You can use the append() method to add an element to an array.\n",
        "\n"
      ]
    },
    {
      "metadata": {
        "id": "85yvGycCKzGH",
        "colab_type": "code",
        "colab": {}
      },
      "cell_type": "code",
      "source": [
        "#Add one more element to the cars array:\n",
        "\n",
        "cars.append(\"Honda\")"
      ],
      "execution_count": 0,
      "outputs": []
    },
    {
      "metadata": {
        "id": "oQXXusmOK1mK",
        "colab_type": "text"
      },
      "cell_type": "markdown",
      "source": [
        "### Removing Array Elements\n",
        "You can use the pop() method to remove an element from the array."
      ]
    },
    {
      "metadata": {
        "id": "rgzfmyveK3oi",
        "colab_type": "code",
        "colab": {}
      },
      "cell_type": "code",
      "source": [
        "#Delete the second element of the cars array:\n",
        "\n",
        "cars.pop(1)"
      ],
      "execution_count": 0,
      "outputs": []
    },
    {
      "metadata": {
        "id": "EAcFZbTIK5o0",
        "colab_type": "text"
      },
      "cell_type": "markdown",
      "source": [
        "You can also use the remove() method to remove an element from the array."
      ]
    },
    {
      "metadata": {
        "id": "opDW7jr7LA00",
        "colab_type": "code",
        "colab": {}
      },
      "cell_type": "code",
      "source": [
        "#Delete the element that has the value \"Volvo\":\n",
        "\n",
        "cars.remove(\"Volvo\")"
      ],
      "execution_count": 0,
      "outputs": []
    },
    {
      "metadata": {
        "id": "nDbA-YfMLD_6",
        "colab_type": "text"
      },
      "cell_type": "markdown",
      "source": [
        "Note: The remove() method only removes the first occurrence of the specified value.\n",
        "\n"
      ]
    },
    {
      "metadata": {
        "id": "W-tYTHx4LGou",
        "colab_type": "text"
      },
      "cell_type": "markdown",
      "source": [
        "### Array Methods\n",
        "Python has a set of built-in methods that you can use on lists/arrays.\n",
        "\n",
        "+ **append()** :\tAdds an element at the end of the list\n",
        "+ **clear()** :\tRemoves all the elements from the list\n",
        "+ **copy()**:\tReturns a copy of the list\n",
        "+ **count()**:\tReturns the number of elements with the specified value\n",
        "+ **extend()**:\tAdd the elements of a list (or any iterable), to the end of the current list\n",
        "+ **index()** :\tReturns the index of the first element with the specified value\n",
        "+ **insert()**:\tAdds an element at the specified position\n",
        "+ **pop()** :\tRemoves the element at the specified position\n",
        "+ **remove()**:\tRemoves the first item with the specified value\n",
        "+ **reverse()** :\tReverses the order of the list\n",
        "+ **sort()**:\tSorts the list"
      ]
    },
    {
      "metadata": {
        "id": "GF9kbHER1yFz",
        "colab_type": "text"
      },
      "cell_type": "markdown",
      "source": [
        "## Collections\n",
        "There are four collection data types in the Python programming language:\n",
        "\n",
        "- List is a collection which is ordered and changeable. Allows duplicate members.\n",
        "- Tuple is a collection which is ordered and unchangeable. Allows duplicate members.\n",
        "- Set is a collection which is unordered and unindexed. No duplicate members.\n",
        "- Dictionary is a collection which is unordered, changeable and indexed. No duplicate members.\n",
        "\n",
        "When choosing a collection type, it is useful to understand the properties of that type. Choosing the right type for a particular data set could mean retention of meaning, and, it could mean an increase in efficiency or security.\n",
        "\n",
        "\n"
      ]
    },
    {
      "metadata": {
        "id": "vN7UqmXCx-Fj",
        "colab_type": "text"
      },
      "cell_type": "markdown",
      "source": [
        "\n",
        "## <a name=\"list\"></a>List\n",
        "A list is a collection which is ordered and changeable. In Python lists are written with square brackets."
      ]
    },
    {
      "metadata": {
        "id": "b4Twka02144l",
        "colab_type": "code",
        "colab": {}
      },
      "cell_type": "code",
      "source": [
        "thislist = [\"apple\", \"banana\", \"cherry\"]\n",
        "print(thislist)"
      ],
      "execution_count": 0,
      "outputs": []
    },
    {
      "metadata": {
        "id": "lOSsgYMd150W",
        "colab_type": "text"
      },
      "cell_type": "markdown",
      "source": [
        "### Access Items\n",
        "You access the list items by referring to the index number:"
      ]
    },
    {
      "metadata": {
        "id": "BvSkKr8M19hs",
        "colab_type": "code",
        "colab": {}
      },
      "cell_type": "code",
      "source": [
        "thislist = [\"apple\", \"banana\", \"cherry\"]\n",
        "print(thislist[1])\n",
        "\n",
        "\"\"\"add a cell below and create a list which prints some numbers\"\"\""
      ],
      "execution_count": 0,
      "outputs": []
    },
    {
      "metadata": {
        "id": "3K4gpnRQ2QVe",
        "colab_type": "text"
      },
      "cell_type": "markdown",
      "source": [
        "### Change Item Value\n",
        "To change the value of a specific item, refer to the index number:"
      ]
    },
    {
      "metadata": {
        "id": "cIUHdDGQ2UaL",
        "colab_type": "code",
        "colab": {}
      },
      "cell_type": "code",
      "source": [
        "thislist = [\"apple\", \"banana\", \"cherry\"]\n",
        "thislist[1] = \"blackcurrant\"\n",
        "print(thislist)"
      ],
      "execution_count": 0,
      "outputs": []
    },
    {
      "metadata": {
        "id": "qIdc7sPb2ZtN",
        "colab_type": "text"
      },
      "cell_type": "markdown",
      "source": [
        "### Loop Through a List\n",
        "You can loop through the list items by using a for loop:"
      ]
    },
    {
      "metadata": {
        "id": "ZzNo7vU92dvA",
        "colab_type": "code",
        "colab": {}
      },
      "cell_type": "code",
      "source": [
        "thislist = [\"apple\", \"banana\", \"cherry\"]\n",
        "for x in thislist:\n",
        "  print(x)"
      ],
      "execution_count": 0,
      "outputs": []
    },
    {
      "metadata": {
        "id": "5zsqVhJG2xfd",
        "colab_type": "text"
      },
      "cell_type": "markdown",
      "source": [
        "### List Length\n",
        "To determine how many items a list have, use the len() method:\n"
      ]
    },
    {
      "metadata": {
        "id": "5hAY1qVB21xz",
        "colab_type": "code",
        "colab": {}
      },
      "cell_type": "code",
      "source": [
        "thislist = [\"apple\", \"banana\", \"cherry\"]\n",
        "print(len(thislist))\n",
        "\n",
        "\"\"\"write a program to find the lenghth of your name\"\"\""
      ],
      "execution_count": 0,
      "outputs": []
    },
    {
      "metadata": {
        "id": "IW9WYVUN29BL",
        "colab_type": "text"
      },
      "cell_type": "markdown",
      "source": [
        "### Add Items\n",
        "To add an item to the end of the list, use the append() method:\n"
      ]
    },
    {
      "metadata": {
        "id": "4LWFYs4a3AcB",
        "colab_type": "code",
        "colab": {}
      },
      "cell_type": "code",
      "source": [
        "thislist = [\"apple\", \"banana\", \"cherry\"]\n",
        "thislist.append(\"orange\")\n",
        "print(thislist)"
      ],
      "execution_count": 0,
      "outputs": []
    },
    {
      "metadata": {
        "id": "k9aMapwC3G8o",
        "colab_type": "text"
      },
      "cell_type": "markdown",
      "source": [
        "To add an item at the specified index, use the insert() method:"
      ]
    },
    {
      "metadata": {
        "id": "fygmm-Lr3HZQ",
        "colab_type": "code",
        "colab": {}
      },
      "cell_type": "code",
      "source": [
        "thislist = [\"apple\", \"banana\", \"cherry\"]\n",
        "thislist.insert(1, \"orange\")\n",
        "print(thislist)"
      ],
      "execution_count": 0,
      "outputs": []
    },
    {
      "metadata": {
        "id": "Dh9XN60R3OqZ",
        "colab_type": "text"
      },
      "cell_type": "markdown",
      "source": [
        "### Remove Item\n",
        "There are several methods to remove items from a list:\n"
      ]
    },
    {
      "metadata": {
        "id": "C080yyy73PhZ",
        "colab_type": "code",
        "colab": {}
      },
      "cell_type": "code",
      "source": [
        "thislist = [\"apple\", \"banana\", \"cherry\"]\n",
        "thislist.remove(\"banana\")\n",
        "print(thislist)"
      ],
      "execution_count": 0,
      "outputs": []
    },
    {
      "metadata": {
        "id": "2IognMGj3Vtn",
        "colab_type": "code",
        "colab": {}
      },
      "cell_type": "code",
      "source": [
        "\"\"\"\"The pop() method removes the specified index, (or the last item if index is not specified):\"\"\"\n",
        "\n",
        "thislist = [\"apple\", \"banana\", \"cherry\"]\n",
        "thislist.pop()\n",
        "print(thislist)"
      ],
      "execution_count": 0,
      "outputs": []
    },
    {
      "metadata": {
        "id": "-WX0iqUf3cyG",
        "colab_type": "text"
      },
      "cell_type": "markdown",
      "source": [
        "The del keyword removes the specified index:"
      ]
    },
    {
      "metadata": {
        "id": "zMClFcIR3dpc",
        "colab_type": "code",
        "colab": {}
      },
      "cell_type": "code",
      "source": [
        "thislist = [\"apple\", \"banana\", \"cherry\"]\n",
        "del thislist[0]\n",
        "print(thislist)"
      ],
      "execution_count": 0,
      "outputs": []
    },
    {
      "metadata": {
        "id": "pu-DaPwi3gak",
        "colab_type": "text"
      },
      "cell_type": "markdown",
      "source": [
        "The del keyword can also delete the list completely:"
      ]
    },
    {
      "metadata": {
        "id": "ddQfm87M3jDh",
        "colab_type": "code",
        "colab": {}
      },
      "cell_type": "code",
      "source": [
        "thislist = [\"apple\", \"banana\", \"cherry\"]\n",
        "del thislist\n",
        "print(thislist) #this will cause an error because \"thislist\" no longer exists."
      ],
      "execution_count": 0,
      "outputs": []
    },
    {
      "metadata": {
        "id": "flMZRXJO3par",
        "colab_type": "code",
        "colab": {}
      },
      "cell_type": "code",
      "source": [
        "\"\"\"The clear() method empties the list:\"\"\"\n",
        "\n",
        "thislist = [\"apple\", \"banana\", \"cherry\"]\n",
        "thislist.clear()\n",
        "print(thislist)"
      ],
      "execution_count": 0,
      "outputs": []
    },
    {
      "metadata": {
        "id": "WdZes2Ud3v5M",
        "colab_type": "text"
      },
      "cell_type": "markdown",
      "source": [
        "### The list() Constructor\n",
        "It is also possible to use the list() constructor to make a list."
      ]
    },
    {
      "metadata": {
        "id": "niVh_zrJ30gu",
        "colab_type": "code",
        "colab": {}
      },
      "cell_type": "code",
      "source": [
        "thislist = list((\"apple\", \"banana\", \"cherry\")) # note the double round-brackets\n",
        "print(thislist)"
      ],
      "execution_count": 0,
      "outputs": []
    },
    {
      "metadata": {
        "id": "f9Ox3Qwg31Dg",
        "colab_type": "text"
      },
      "cell_type": "markdown",
      "source": [
        "### List Methods\n",
        "Python has a set of built-in methods that you can use on lists.\n",
        "\n",
        "\n",
        "+ **append()** --->\tAdds an element at the end of the list\n",
        "+ **clear()**  --->\tRemoves all the elements from the list\n",
        "+ **copy()**  --->\tReturns a copy of the list\n",
        "+ **count()**  --->\tReturns the number of elements with the specified value\n",
        "+ **extend()**  --->\tAdd the elements of a list (or any iterable), to the end of the current list\n",
        "+ **index()**  --->\tReturns the index of the first element with the specified value\n",
        "+ **insert()** --->\tAdds an element at the specified position\n",
        "+ **pop()** --->\tRemoves the element at the specified position\n",
        "+ **remove()** --->\tRemoves the item with the specified value\n",
        "+ **reverse()** --->\tReverses the order of the list\n",
        "+ **sort()** --->\tSorts the list\n",
        "\n"
      ]
    },
    {
      "metadata": {
        "id": "tVqZOydQ5i6y",
        "colab_type": "text"
      },
      "cell_type": "markdown",
      "source": [
        "## <a name=\"tuple\"></a>Tuple\n",
        "A tuple is a collection which is ordered and unchangeable. In Python tuples are written with round brackets.\n"
      ]
    },
    {
      "metadata": {
        "id": "ZKYigDM55nVi",
        "colab_type": "code",
        "colab": {}
      },
      "cell_type": "code",
      "source": [
        "\"\"\"Create a Tuple:\"\"\"\n",
        "\n",
        "thistuple = (\"apple\", \"banana\", \"cherry\")\n",
        "print(thistuple)"
      ],
      "execution_count": 0,
      "outputs": []
    },
    {
      "metadata": {
        "id": "JzEBr2XR52A3",
        "colab_type": "text"
      },
      "cell_type": "markdown",
      "source": [
        "### Access Tuple Items\n",
        "You can access tuple items by referring to the index number:\n"
      ]
    },
    {
      "metadata": {
        "id": "GOs6yJf355TD",
        "colab_type": "code",
        "colab": {}
      },
      "cell_type": "code",
      "source": [
        "thistuple = (\"apple\", \"banana\", \"cherry\")\n",
        "print(thistuple[1])"
      ],
      "execution_count": 0,
      "outputs": []
    },
    {
      "metadata": {
        "id": "HRs77lLr57p4",
        "colab_type": "text"
      },
      "cell_type": "markdown",
      "source": [
        "### Change Tuple Values\n",
        "Once a tuple is created, you cannot change its values. Tuples are unchangeable.\n",
        "\n"
      ]
    },
    {
      "metadata": {
        "id": "aleesjen5-C_",
        "colab_type": "code",
        "colab": {}
      },
      "cell_type": "code",
      "source": [
        "thistuple = (\"apple\", \"banana\",\"banana\", \"cherry\")\n",
        "# thistuple[1] = \"\"\n",
        "# The values will remain the same:\n",
        "print(thistuple)"
      ],
      "execution_count": 0,
      "outputs": []
    },
    {
      "metadata": {
        "id": "Dcb4QhBi5-4-",
        "colab_type": "text"
      },
      "cell_type": "markdown",
      "source": [
        "### Loop Through a Tuple\n",
        "You can loop through the tuple items by using a for loop.\n",
        "\n"
      ]
    },
    {
      "metadata": {
        "id": "k6TtJIyq6E0H",
        "colab_type": "code",
        "colab": {}
      },
      "cell_type": "code",
      "source": [
        "\"\"\"\"Iterate through the items and print the values:\"\"\"\"\n",
        "\n",
        "thistuple = (\"apple\", \"banana\", \"cherry\")\n",
        "for x in thistuple:\n",
        "  print(x)"
      ],
      "execution_count": 0,
      "outputs": []
    },
    {
      "metadata": {
        "id": "G7B5UHV36M5X",
        "colab_type": "text"
      },
      "cell_type": "markdown",
      "source": [
        "### Tuple Length\n",
        "To determine how many items a list have, use the len() method:"
      ]
    },
    {
      "metadata": {
        "id": "NgnAbnXl6PJz",
        "colab_type": "code",
        "colab": {}
      },
      "cell_type": "code",
      "source": [
        "thistuple = (\"apple\", \"banana\", \"cherry\")\n",
        "print(len(thistuple))"
      ],
      "execution_count": 0,
      "outputs": []
    },
    {
      "metadata": {
        "id": "z7Wyo2AN6S_s",
        "colab_type": "text"
      },
      "cell_type": "markdown",
      "source": [
        "### Add Items\n",
        "Once a tuple is created, you cannot add items to it. Tuples are unchangeable.\n"
      ]
    },
    {
      "metadata": {
        "id": "M1dxqwnf6UNC",
        "colab_type": "code",
        "colab": {}
      },
      "cell_type": "code",
      "source": [
        "thistuple = (\"apple\", \"banana\", \"cherry\")\n",
        "thistuple[3] = \"orange\" # This will raise an error\n",
        "print(thistuple)"
      ],
      "execution_count": 0,
      "outputs": []
    },
    {
      "metadata": {
        "id": "qrMAvjui6bJP",
        "colab_type": "text"
      },
      "cell_type": "markdown",
      "source": [
        "### Remove Items\n",
        " Tuples are unchangeable, so you cannot remove items from it, but you can delete the tuple completely:\n"
      ]
    },
    {
      "metadata": {
        "id": "AmJL17bF6hDx",
        "colab_type": "code",
        "colab": {}
      },
      "cell_type": "code",
      "source": [
        "#The del keyword can delete the tuple completely:\n",
        "\n",
        "thistuple = (\"apple\", \"banana\", \"cherry\")\n",
        "del thistuple\n",
        "print(thistuple) #this will raise an error because the tuple no longer exists"
      ],
      "execution_count": 0,
      "outputs": []
    },
    {
      "metadata": {
        "id": "5J5_NdRJ6k1Z",
        "colab_type": "text"
      },
      "cell_type": "markdown",
      "source": [
        "### The tuple() Constructor\n",
        "It is also possible to use the tuple() constructor to make a tuple."
      ]
    },
    {
      "metadata": {
        "id": "ftfI4FxZ6l2V",
        "colab_type": "code",
        "colab": {}
      },
      "cell_type": "code",
      "source": [
        "#Using the tuple() method to make a tuple:\n",
        "\n",
        "thistuple = tuple((\"apple\", \"banana\", \"cherry\")) # note the double round-brackets\n",
        "print(thistuple)"
      ],
      "execution_count": 0,
      "outputs": []
    },
    {
      "metadata": {
        "id": "mXivsiwH6qfP",
        "colab_type": "text"
      },
      "cell_type": "markdown",
      "source": [
        "### Tuple Methods\n",
        "Python has two built-in methods that you can use on tuples.\n",
        "\n",
        "\n",
        "+ **count()**\tReturns the number of times a specified value occurs in a tuple\n",
        "+ **index()**\tSearches the tuple for a specified value and returns the position of where it was found"
      ]
    },
    {
      "metadata": {
        "id": "9mC4fiPV7PPP",
        "colab_type": "text"
      },
      "cell_type": "markdown",
      "source": [
        "##<a name=\"set\"></a> Set\n",
        "A set is a collection which is unordered and unindexed. In Python sets are written with curly brackets."
      ]
    },
    {
      "metadata": {
        "id": "BDy2PE1B7SMc",
        "colab_type": "code",
        "colab": {}
      },
      "cell_type": "code",
      "source": [
        "#Create a Set:\n",
        "\n",
        "thisset = {\"apple\", \"banana\", \"cherry\"}\n",
        "print(thisset)\n",
        "\n",
        "#Sets are unordered, so the items will appear in a random order."
      ],
      "execution_count": 0,
      "outputs": []
    },
    {
      "metadata": {
        "id": "UOTbu_Ll7S-3",
        "colab_type": "text"
      },
      "cell_type": "markdown",
      "source": [
        "### Access Items\n",
        "You cannot access items in a set by referring to an index, since sets are unordered the items has no index.\n",
        "\n",
        "But you can loop through the set items using a for loop, or ask if a specified value is present in a set, by using the in keyword."
      ]
    },
    {
      "metadata": {
        "id": "NVrI-z2c7a0s",
        "colab_type": "code",
        "colab": {}
      },
      "cell_type": "code",
      "source": [
        "#Loop through the set, and print the values:\n",
        "\n",
        "thisset = {\"apple\", \"banana\", \"cherry\"}\n",
        "\n",
        "for x in thisset:\n",
        "  print(x)"
      ],
      "execution_count": 0,
      "outputs": []
    },
    {
      "metadata": {
        "id": "otHptP447faH",
        "colab_type": "code",
        "colab": {}
      },
      "cell_type": "code",
      "source": [
        "#Check if \"banana\" is present in the set:\n",
        "\n",
        "thisset = {\"apple\", \"banana\", \"cherry\"}\n",
        "\n",
        "print(\"banana\" in thisset)"
      ],
      "execution_count": 0,
      "outputs": []
    },
    {
      "metadata": {
        "id": "rehcyo027iRB",
        "colab_type": "text"
      },
      "cell_type": "markdown",
      "source": [
        "### Change Items\n",
        "Once a set is created, you cannot change its items, but you can add new items.\n",
        "\n",
        "### Add Items\n",
        "To add one item to a set use the add() method.\n",
        "\n",
        "To add more than one item to a set use the update() method."
      ]
    },
    {
      "metadata": {
        "id": "u3AFHhfW7mWA",
        "colab_type": "code",
        "colab": {}
      },
      "cell_type": "code",
      "source": [
        "#Add an item to a set, using the add() method:\n",
        "\n",
        "thisset = {\"apple\", \"banana\", \"cherry\"}\n",
        "\n",
        "thisset.add(\"orange\")\n",
        "\n",
        "print(thisset)"
      ],
      "execution_count": 0,
      "outputs": []
    },
    {
      "metadata": {
        "id": "pQCjnA2U7o8e",
        "colab_type": "code",
        "colab": {}
      },
      "cell_type": "code",
      "source": [
        "#Add multiple items to a set, using the update() method:\n",
        "\n",
        "thisset = {\"apple\", \"banana\", \"cherry\"}\n",
        "\n",
        "thisset.update([\"orange\", \"mango\", \"grapes\"])\n",
        "\n",
        "print(thisset)"
      ],
      "execution_count": 0,
      "outputs": []
    },
    {
      "metadata": {
        "id": "9g9x8nez7rWC",
        "colab_type": "text"
      },
      "cell_type": "markdown",
      "source": [
        "### Get the Length of a Set\n",
        "To determine how many items a set have, use the len() method."
      ]
    },
    {
      "metadata": {
        "id": "NEwmT9GD7r_Q",
        "colab_type": "code",
        "colab": {}
      },
      "cell_type": "code",
      "source": [
        "#Get the number of items in a set:\n",
        "\n",
        "thisset = {\"apple\", \"banana\", \"cherry\"}\n",
        "\n",
        "print(len(thisset))"
      ],
      "execution_count": 0,
      "outputs": []
    },
    {
      "metadata": {
        "id": "sfUJX4c9M5lE",
        "colab_type": "code",
        "colab": {}
      },
      "cell_type": "code",
      "source": [
        ""
      ],
      "execution_count": 0,
      "outputs": []
    },
    {
      "metadata": {
        "id": "GgIH4iyU7wPD",
        "colab_type": "text"
      },
      "cell_type": "markdown",
      "source": [
        "### Remove Item\n",
        "To remove an item in a set, use the remove(), or the discard() method."
      ]
    },
    {
      "metadata": {
        "id": "Ivvysjwl7w7l",
        "colab_type": "code",
        "colab": {}
      },
      "cell_type": "code",
      "source": [
        "#Remove \"banana\" by using the remove() method:\n",
        "\n",
        "thisset = {\"apple\", \"banana\", \"cherry\"}\n",
        "\n",
        "thisset.remove(\"banana\")\n",
        "\n",
        "print(thisset)\n"
      ],
      "execution_count": 0,
      "outputs": []
    },
    {
      "metadata": {
        "id": "V011nf3_73_6",
        "colab_type": "code",
        "colab": {}
      },
      "cell_type": "code",
      "source": [
        "#Remove \"banana\" by using the discard() method:\n",
        "\n",
        "thisset = {\"apple\", \"banana\", \"cherry\"}\n",
        "\n",
        "thisset.discard(\"banana\")\n",
        "\n",
        "print(thisset)"
      ],
      "execution_count": 0,
      "outputs": []
    },
    {
      "metadata": {
        "id": "Kd5vJ-P1761T",
        "colab_type": "text"
      },
      "cell_type": "markdown",
      "source": [
        "Note: If the item to remove does not exist, discard() will NOT raise an error.\n",
        "\n",
        "You can also use the pop(), method to remove an item, but this method will remove the last item. Remember that sets are unordered, so you will not know what item that gets removed.\n",
        "\n",
        "The return value of the pop() method is the removed item."
      ]
    },
    {
      "metadata": {
        "id": "tQm6b2cu79d1",
        "colab_type": "code",
        "colab": {}
      },
      "cell_type": "code",
      "source": [
        "#Remove the last item by using the pop() method:\n",
        "\n",
        "thisset = {\"apple\", \"banana\", \"cherry\"}\n",
        "\n",
        "x = thisset.pop()\n",
        "\n",
        "print(x)\n",
        "\n",
        "print(thisset)\n"
      ],
      "execution_count": 0,
      "outputs": []
    },
    {
      "metadata": {
        "id": "9bAvnHOH8AgN",
        "colab_type": "code",
        "colab": {}
      },
      "cell_type": "code",
      "source": [
        "#The clear() method empties the set:\n",
        "\n",
        "thisset = {\"apple\", \"banana\", \"cherry\"}\n",
        "\n",
        "thisset.clear()\n",
        "\n",
        "print(thisset)"
      ],
      "execution_count": 0,
      "outputs": []
    },
    {
      "metadata": {
        "id": "1w3pP4w58DFL",
        "colab_type": "code",
        "colab": {}
      },
      "cell_type": "code",
      "source": [
        "#The del keyword will delete the set completely:\n",
        "\n",
        "thisset = {\"apple\", \"banana\", \"cherry\"}\n",
        "\n",
        "del thisset\n",
        "\n",
        "print(thisset)"
      ],
      "execution_count": 0,
      "outputs": []
    },
    {
      "metadata": {
        "id": "rkTWIw_V8F1z",
        "colab_type": "text"
      },
      "cell_type": "markdown",
      "source": [
        "### The set() Constructor\n",
        "It is also possible to use the set() constructor to make a set."
      ]
    },
    {
      "metadata": {
        "id": "RYx2ZG9z8H30",
        "colab_type": "code",
        "colab": {}
      },
      "cell_type": "code",
      "source": [
        "#Using the set() constructor to make a set:\n",
        "\n",
        "thisset = set((\"apple\", \"banana\", \"cherry\")) # note the double round-brackets\n",
        "print(thisset)"
      ],
      "execution_count": 0,
      "outputs": []
    },
    {
      "metadata": {
        "id": "QrpodktA8J18",
        "colab_type": "text"
      },
      "cell_type": "markdown",
      "source": [
        "### Set Methods\n",
        "Python has a set of built-in methods that you can use on sets.\n",
        "\n",
        "\n",
        "+ **add()**\tAdds an element to the set\n",
        "+ **clear()**\tRemoves all the elements from the set\n",
        "+ **copy()**\tReturns a copy of the set\n",
        "+ **difference()**\tReturns a set containing the difference between two or more sets\n",
        "+ **difference_update()**\tRemoves the items in this set that are also included in another, specified set\n",
        "+ **discard()**\tRemove the specified item\n",
        "+ **intersection()**\tReturns a set, that is the intersection of two other sets\n",
        "+ **intersection_update()**\tRemoves the items in this set that are not present in other, specified set(s)\n",
        "+ **isdisjoint()**\tReturns whether two sets have a intersection or not\n",
        "+ **issubset()**\tReturns whether another set contains this set or not\n",
        "+ **issuperset()**\tReturns whether this set contains another set or not\n",
        "+ **pop()**\tRemoves the specified element\n",
        "+ **remove()**\tRemoves the specified element\n",
        "+ **symmetric_difference()**\tReturns a set with the symmetric differences of two sets\n",
        "+ **symmetric_difference_update()**\tinserts the symmetric differences from this set and another\n",
        "+ **union()**\tReturn a set containing the union of sets\n",
        "+ **update()**\tUpdate the set with the union of this set and others"
      ]
    },
    {
      "metadata": {
        "id": "il2Paedm9XIN",
        "colab_type": "text"
      },
      "cell_type": "markdown",
      "source": [
        "## <a name=\"dictionary\"></a>Dictionary\n",
        "A dictionary is a collection which is unordered, changeable and indexed. In Python dictionaries are written with curly brackets, and they have keys and values."
      ]
    },
    {
      "metadata": {
        "id": "3rp8d3ib9cxh",
        "colab_type": "code",
        "colab": {}
      },
      "cell_type": "code",
      "source": [
        "#Create and print a dictionary:\n",
        "\n",
        "thisdict =\t{\n",
        "  \"brand\": \"Ford\",\n",
        "  \"model\": \"Mustang\",\n",
        "  \"year\": 1964\n",
        "}\n",
        "print(thisdict)"
      ],
      "execution_count": 0,
      "outputs": []
    },
    {
      "metadata": {
        "id": "2KTDN2QA9f9q",
        "colab_type": "text"
      },
      "cell_type": "markdown",
      "source": [
        "### Accessing Items\n",
        "You can access the items of a dictionary by referring to its key name:\n",
        "\n"
      ]
    },
    {
      "metadata": {
        "id": "QNz-6IXz9gmH",
        "colab_type": "code",
        "colab": {}
      },
      "cell_type": "code",
      "source": [
        "#Get the value of the \"model\" key:\n",
        "\n",
        "x = thisdict[\"model\"]"
      ],
      "execution_count": 0,
      "outputs": []
    },
    {
      "metadata": {
        "id": "9pCAog4c9lYg",
        "colab_type": "code",
        "colab": {}
      },
      "cell_type": "code",
      "source": [
        "#There is also a method called get() that will give you the same result:\n",
        "#Get the value of the \"model\" key:\n",
        "x = thisdict.get(\"model\")\n"
      ],
      "execution_count": 0,
      "outputs": []
    },
    {
      "metadata": {
        "id": "0hBhS0DILPwa",
        "colab_type": "code",
        "colab": {}
      },
      "cell_type": "code",
      "source": [
        ""
      ],
      "execution_count": 0,
      "outputs": []
    },
    {
      "metadata": {
        "id": "PUtir7DZ9tP8",
        "colab_type": "text"
      },
      "cell_type": "markdown",
      "source": [
        "### Change Values\n",
        "You can change the value of a specific item by referring to its key name:"
      ]
    },
    {
      "metadata": {
        "id": "U-rpdK8X9wqP",
        "colab_type": "code",
        "colab": {}
      },
      "cell_type": "code",
      "source": [
        "#Change the \"year\" to 2018:\n",
        "\n",
        "thisdict =\t{\n",
        "  \"brand\": \"Ford\",\n",
        "  \"model\": \"Mustang\",\n",
        "  \"year\": 1964\n",
        "}\n",
        "thisdict[\"year\"] = 2018\n",
        "print(thisdict)\n"
      ],
      "execution_count": 0,
      "outputs": []
    },
    {
      "metadata": {
        "id": "0QLklkiJ9zo4",
        "colab_type": "text"
      },
      "cell_type": "markdown",
      "source": [
        "### Loop Through a Dictionary\n",
        "You can loop through a dictionary by using a for loop.\n",
        "\n",
        "When looping through a dictionary, the return value are the keys of the dictionary, but there are methods to return the values as well."
      ]
    },
    {
      "metadata": {
        "id": "Y_TWLsdS913c",
        "colab_type": "code",
        "colab": {}
      },
      "cell_type": "code",
      "source": [
        "#Print all key names in the dictionary, one by one:\n",
        "\n",
        "for x in thisdict:\n",
        "  print(x)"
      ],
      "execution_count": 0,
      "outputs": []
    },
    {
      "metadata": {
        "id": "ba-6VRER94U_",
        "colab_type": "code",
        "colab": {}
      },
      "cell_type": "code",
      "source": [
        "#Print all values in the dictionary, one by one:\n",
        "\n",
        "for x in thisdict:\n",
        "  print(thisdict[x])"
      ],
      "execution_count": 0,
      "outputs": []
    },
    {
      "metadata": {
        "id": "n2l9G99t96rc",
        "colab_type": "code",
        "colab": {}
      },
      "cell_type": "code",
      "source": [
        "#You can also use the values() function to return values of a dictionary:\n",
        "\n",
        "for x in thisdict.values():\n",
        "  print(x)"
      ],
      "execution_count": 0,
      "outputs": []
    },
    {
      "metadata": {
        "id": "HDKpNfRk97YW",
        "colab_type": "code",
        "colab": {}
      },
      "cell_type": "code",
      "source": [
        "#Loop through both keys and values, by using the items() function:\n",
        "\n",
        "for x, y in thisdict.items():\n",
        "  print(x, y)"
      ],
      "execution_count": 0,
      "outputs": []
    },
    {
      "metadata": {
        "id": "jWgqKlbD9_wM",
        "colab_type": "text"
      },
      "cell_type": "markdown",
      "source": [
        "### Dictionary Length\n",
        "To determine how many items (key-value pairs) a dictionary have, use the len() method."
      ]
    },
    {
      "metadata": {
        "id": "lcrjyv1C-Arx",
        "colab_type": "code",
        "colab": {}
      },
      "cell_type": "code",
      "source": [
        "print(len(thisdict))\n"
      ],
      "execution_count": 0,
      "outputs": []
    },
    {
      "metadata": {
        "id": "B9YmyW4F-EaO",
        "colab_type": "text"
      },
      "cell_type": "markdown",
      "source": [
        "### Adding Items\n",
        "Adding an item to the dictionary is done by using a new index key and assigning a value to it:"
      ]
    },
    {
      "metadata": {
        "id": "U9aKeWil-IvG",
        "colab_type": "code",
        "colab": {}
      },
      "cell_type": "code",
      "source": [
        "thisdict =\t{\n",
        "  \"brand\": \"Ford\",\n",
        "  \"model\": \"Mustang\",\n",
        "  \"year\": 1964\n",
        "}\n",
        "thisdict[\"color\"] = \"red\"\n",
        "print(thisdict)\n"
      ],
      "execution_count": 0,
      "outputs": []
    },
    {
      "metadata": {
        "id": "bp6BxWux-LnC",
        "colab_type": "text"
      },
      "cell_type": "markdown",
      "source": [
        "### Removing Items\n",
        "There are several methods to remove items from a dictionary:"
      ]
    },
    {
      "metadata": {
        "id": "ffYtQLNe-OBJ",
        "colab_type": "code",
        "colab": {}
      },
      "cell_type": "code",
      "source": [
        "#The del keyword removes the item with the specified key name:\n",
        "\n",
        "thisdict =\t{\n",
        "  \"brand\": \"Ford\",\n",
        "  \"model\": \"Mustang\",\n",
        "  \"year\": 1964\n",
        "}\n",
        "del thisdict[\"model\"]\n",
        "print(thisdict)"
      ],
      "execution_count": 0,
      "outputs": []
    },
    {
      "metadata": {
        "id": "KV-DDi8w-QhX",
        "colab_type": "code",
        "colab": {}
      },
      "cell_type": "code",
      "source": [
        "#The pop() method removes the item with the specified key name:\n",
        "\n",
        "thisdict =\t{\n",
        "  \"brand\": \"Ford\",\n",
        "  \"model\": \"Mustang\",\n",
        "  \"year\": 1964\n",
        "}\n",
        "thisdict.pop(\"model\")\n",
        "print(thisdict)"
      ],
      "execution_count": 0,
      "outputs": []
    },
    {
      "metadata": {
        "id": "5AaeHzVI-TOw",
        "colab_type": "code",
        "colab": {}
      },
      "cell_type": "code",
      "source": [
        "#The popitem() method removes the last inserted item (in versions before 3.7, a random item is removed instead):\n",
        "\n",
        "thisdict =\t{\n",
        "  \"brand\": \"Ford\",\n",
        "  \"model\": \"Mustang\",\n",
        "  \"year\": 1964\n",
        "}\n",
        "thisdict.popitem()\n",
        "print(thisdict)"
      ],
      "execution_count": 0,
      "outputs": []
    },
    {
      "metadata": {
        "id": "HjlHY9V0-WSY",
        "colab_type": "code",
        "colab": {}
      },
      "cell_type": "code",
      "source": [
        "#The del keyword removes the item with the specified key name:\n",
        "\n",
        "thisdict =\t{\n",
        "  \"brand\": \"Ford\",\n",
        "  \"model\": \"Mustang\",\n",
        "  \"year\": 1964\n",
        "}\n",
        "del thisdict[\"model\"]\n",
        "print(thisdict)"
      ],
      "execution_count": 0,
      "outputs": []
    },
    {
      "metadata": {
        "id": "Zzt_nV7f-a4b",
        "colab_type": "code",
        "colab": {}
      },
      "cell_type": "code",
      "source": [
        "#The del keyword can also delete the dictionary completely:\n",
        "\n",
        "thisdict =\t{\n",
        "  \"brand\": \"Ford\",\n",
        "  \"model\": \"Mustang\",\n",
        "  \"year\": 1964\n",
        "}\n",
        "del thisdict\n",
        "print(thisdict) #this will cause an error because \"thislist\" no longer exists."
      ],
      "execution_count": 0,
      "outputs": []
    },
    {
      "metadata": {
        "id": "_lgVABVc-e-F",
        "colab_type": "code",
        "colab": {}
      },
      "cell_type": "code",
      "source": [
        "#The clear() keyword empties the dictionary:\n",
        "\n",
        "thisdict =\t{\n",
        "  \"brand\": \"Ford\",\n",
        "  \"model\": \"Mustang\",\n",
        "  \"year\": 1964\n",
        "}\n",
        "thisdict.clear()\n",
        "print(thisdict)"
      ],
      "execution_count": 0,
      "outputs": []
    },
    {
      "metadata": {
        "id": "ObO6avyB-imE",
        "colab_type": "text"
      },
      "cell_type": "markdown",
      "source": [
        "###The dict() Constructor\n",
        "It is also possible to use the dict() constructor to make a dictionary:"
      ]
    },
    {
      "metadata": {
        "id": "u9tAikkx-lD5",
        "colab_type": "code",
        "colab": {}
      },
      "cell_type": "code",
      "source": [
        "thisdict =\tdict(brand=\"Ford\", model=\"Mustang\", year=1964)\n",
        "# note that keywords are not string literals\n",
        "# note the use of equals rather than colon for the assignment\n",
        "print(thisdict)"
      ],
      "execution_count": 0,
      "outputs": []
    },
    {
      "metadata": {
        "colab_type": "text",
        "id": "s4BkW6lG1O3b"
      },
      "cell_type": "markdown",
      "source": [
        "**[Go to Top](#table)**"
      ]
    },
    {
      "metadata": {
        "id": "FZvsDnxVvY0Z",
        "colab_type": "text"
      },
      "cell_type": "markdown",
      "source": [
        "# 4. <a name=\"control\"></a>Control structures"
      ]
    },
    {
      "metadata": {
        "id": "soHOmn_3_L_W",
        "colab_type": "text"
      },
      "cell_type": "markdown",
      "source": [
        "Python supports the usual logical conditions from mathematics:\n",
        "\n",
        "* Equals: a == b\n",
        "* Not Equals: a != b\n",
        "* Less than: a < b\n",
        "* Less than or equal to: a <= b\n",
        "* Greater than: a > b\n",
        "* Greater than or equal to: a >= b\n",
        "\n",
        "These conditions can be used in several ways, most commonly in \"if statements\" and loops."
      ]
    },
    {
      "metadata": {
        "id": "RPE32272Viol",
        "colab_type": "text"
      },
      "cell_type": "markdown",
      "source": [
        "## <a name=\"conditional\"></a>Conditional statements"
      ]
    },
    {
      "metadata": {
        "id": "tGwrGrg2TDKg",
        "colab_type": "text"
      },
      "cell_type": "markdown",
      "source": [
        "### If  \n",
        "\n",
        "The most common selection statement is the if statement. "
      ]
    },
    {
      "metadata": {
        "id": "n1s3hQnEANKM",
        "colab_type": "code",
        "colab": {}
      },
      "cell_type": "code",
      "source": [
        "#If statement:\n",
        "\n",
        "a = 33\n",
        "b = 200\n",
        "if b > a:\n",
        "  print(\"b is greater than a\")"
      ],
      "execution_count": 0,
      "outputs": []
    },
    {
      "metadata": {
        "id": "Q9lS_QM8ASds",
        "colab_type": "text"
      },
      "cell_type": "markdown",
      "source": [
        "In this example we use two variables, a and b, which are used as part of the if statement to test whether b is greater than a. As a is 33, and b is 200, we know that 200 is greater than 33, and so we print to screen that \"b is greater than a\".\n",
        "\n",
        "### Indentation\n",
        "Python relies on indentation, using whitespace, to define scope in the code. Other programming languages often use curly-brackets for this purpose."
      ]
    },
    {
      "metadata": {
        "id": "fF-LeSCPAYem",
        "colab_type": "code",
        "colab": {}
      },
      "cell_type": "code",
      "source": [
        "#If statement, without indentation (will raise an error):\n",
        "\n",
        "a = 33\n",
        "b = 200\n",
        "if b > a:\n",
        "print(\"b is greater than a\") # you will get an error\n",
        "\n",
        "\n",
        "\"\"\"we have discussed about the need of identation earlier\"\"\"\n",
        "  "
      ],
      "execution_count": 0,
      "outputs": []
    },
    {
      "metadata": {
        "id": "6aF1oTC6Ar_u",
        "colab_type": "text"
      },
      "cell_type": "markdown",
      "source": [
        "### Elif\n",
        "The elif keyword is pythons way of saying \"if the previous conditions were not true, then try this condition\".\n",
        "\n"
      ]
    },
    {
      "metadata": {
        "id": "aT9ntSPZAwy8",
        "colab_type": "code",
        "colab": {}
      },
      "cell_type": "code",
      "source": [
        "a = 33\n",
        "b = 33\n",
        "if b > a:\n",
        "  print(\"b is greater than a\")\n",
        "elif a == b:\n",
        "  print(\"a and b are equal\") \n",
        "# In this example a is equal to b, so the first condition is not true, \n",
        "# but the elif condition is true, so we print to screen that \"a and b are equal\"\n",
        "  \n",
        "  \n",
        "# write a program to check whether apple is present in a list, \n",
        "# (create one without apple), if not print it's going to be added to the list and add apple to the list."
      ],
      "execution_count": 0,
      "outputs": []
    },
    {
      "metadata": {
        "id": "H6_w1TGvBfhp",
        "colab_type": "text"
      },
      "cell_type": "markdown",
      "source": [
        "### Else\n",
        "The else keyword catches anything which isn't caught by the preceding conditions."
      ]
    },
    {
      "metadata": {
        "id": "NI1PeHsaBiMM",
        "colab_type": "code",
        "colab": {}
      },
      "cell_type": "code",
      "source": [
        "a = 200\n",
        "b = 33\n",
        "if b > a:\n",
        "  print(\"b is greater than a\")\n",
        "elif a == b:\n",
        "  print(\"a and b are equal\")\n",
        "else:\n",
        "  print(\"a is greater than b\")"
      ],
      "execution_count": 0,
      "outputs": []
    },
    {
      "metadata": {
        "id": "813mAV-eBqvt",
        "colab_type": "code",
        "colab": {}
      },
      "cell_type": "code",
      "source": [
        "#You can also have an else without the elif:\n",
        "\n",
        "a = 200\n",
        "b = 33\n",
        "if b > a:\n",
        "  print(\"b is greater than a\")\n",
        "else:\n",
        "  print(\"b is not greater than a\")"
      ],
      "execution_count": 0,
      "outputs": []
    },
    {
      "metadata": {
        "id": "bErPnBjQBxsD",
        "colab_type": "text"
      },
      "cell_type": "markdown",
      "source": [
        "### Short Hand If\n",
        "If you have only one statement to execute, you can put it on the same line as the if statement."
      ]
    },
    {
      "metadata": {
        "id": "14wSc8aPB0Lj",
        "colab_type": "code",
        "colab": {}
      },
      "cell_type": "code",
      "source": [
        "if a > b: print(\"a is greater than b\")\n"
      ],
      "execution_count": 0,
      "outputs": []
    },
    {
      "metadata": {
        "id": "8WM9-BcZB2OP",
        "colab_type": "text"
      },
      "cell_type": "markdown",
      "source": [
        "### Short Hand If ... Else\n",
        "If you have only one statement to execute, one for if, and one for else, you can put it all on the same line:"
      ]
    },
    {
      "metadata": {
        "id": "WPJSR4e-B2y3",
        "colab_type": "code",
        "colab": {}
      },
      "cell_type": "code",
      "source": [
        "print(\"A\") if a > b else print(\"B\")\n"
      ],
      "execution_count": 0,
      "outputs": []
    },
    {
      "metadata": {
        "id": "B7d5r9kuB8Nj",
        "colab_type": "text"
      },
      "cell_type": "markdown",
      "source": [
        "### And\n",
        "The and keyword is a **logical operator**, and is used to combine conditional statements:"
      ]
    },
    {
      "metadata": {
        "id": "diLZBY8eB-Ry",
        "colab_type": "code",
        "colab": {}
      },
      "cell_type": "code",
      "source": [
        "#Test if a is greater than b, AND if c is greater than a:\n",
        "\n",
        "if a > b and c > a:\n",
        "  print(\"Both conditions are True\")"
      ],
      "execution_count": 0,
      "outputs": []
    },
    {
      "metadata": {
        "id": "L9tozUqtCBMD",
        "colab_type": "text"
      },
      "cell_type": "markdown",
      "source": [
        "### Or\n",
        "The or keyword is a **logical operator**, and is used to combine conditional statements:"
      ]
    },
    {
      "metadata": {
        "id": "q4I6I9u8CDdj",
        "colab_type": "code",
        "colab": {}
      },
      "cell_type": "code",
      "source": [
        "#Test if a is greater than b, OR if a is greater than c:\n",
        "\n",
        "if a > b or a > c:\n",
        "  print(\"At least one of the conditions are True\")"
      ],
      "execution_count": 0,
      "outputs": []
    },
    {
      "metadata": {
        "id": "uMbKWJV-FwzJ",
        "colab_type": "text"
      },
      "cell_type": "markdown",
      "source": [
        "## <a name=\"loops\"></a> Loops\n",
        "Python has two primitive loop commands:\n",
        "\n",
        "* while loops\n",
        "* for loops\n",
        "\n"
      ]
    },
    {
      "metadata": {
        "id": "GDmeMLgjWwvU",
        "colab_type": "text"
      },
      "cell_type": "markdown",
      "source": [
        "### The while Loop\n",
        "With the while loop we can execute a set of statements as long as a condition is true."
      ]
    },
    {
      "metadata": {
        "id": "V8PdRj3OF-3I",
        "colab_type": "code",
        "colab": {}
      },
      "cell_type": "code",
      "source": [
        "#Print i as long as i is less than 6:\n",
        "\n",
        "i = 1\n",
        "while i < 6:\n",
        "  print(i)\n",
        "  i += 1"
      ],
      "execution_count": 0,
      "outputs": []
    },
    {
      "metadata": {
        "id": "CHzPyXK4GDc6",
        "colab_type": "text"
      },
      "cell_type": "markdown",
      "source": [
        "**remember to increment i, or else the loop will continue forever.**\n",
        "\n",
        "The while loop requires relevant variables to be ready, in this example we need to define an indexing variable, i, which we set to 1."
      ]
    },
    {
      "metadata": {
        "id": "V_FYk9YtGLow",
        "colab_type": "text"
      },
      "cell_type": "markdown",
      "source": [
        "### Break statement\n",
        "With the break statement we can stop the loop even if the while condition is true:"
      ]
    },
    {
      "metadata": {
        "id": "IGdSMY6_GNm-",
        "colab_type": "code",
        "colab": {}
      },
      "cell_type": "code",
      "source": [
        "#Exit the loop when i is 3:\n",
        "\n",
        "i = 1\n",
        "while i < 6:\n",
        "  print(i)\n",
        "  if i == 3:\n",
        "    break\n",
        "  i += 1"
      ],
      "execution_count": 0,
      "outputs": []
    },
    {
      "metadata": {
        "id": "4b4kBiJNGUaB",
        "colab_type": "text"
      },
      "cell_type": "markdown",
      "source": [
        "### Continue Statement\n",
        "With the continue statement we can stop the current iteration, and continue with the next:"
      ]
    },
    {
      "metadata": {
        "id": "6qU3_VZqGXuI",
        "colab_type": "code",
        "colab": {}
      },
      "cell_type": "code",
      "source": [
        "#Continue to the next iteration if i is 3:\n",
        "\n",
        "i = 0\n",
        "while i < 6:\n",
        "  i += 1 \n",
        "  if i == 3:\n",
        "    continue\n",
        "  print(i)"
      ],
      "execution_count": 0,
      "outputs": []
    },
    {
      "metadata": {
        "id": "a4IhihIwGhTa",
        "colab_type": "text"
      },
      "cell_type": "markdown",
      "source": [
        "### For Loops\n",
        "A for loop is used for iterating over a sequence (that is either a list, a tuple, a dictionary, a set, or a string).\n",
        "\n",
        "This is less like the for keyword in other programming language, and works more like an iterator method as found in other object-orientated programming languages.\n",
        "\n",
        "With the for loop we can execute a set of statements, once for each item in a list, tuple, set etc."
      ]
    },
    {
      "metadata": {
        "id": "ux5Vho9vGke0",
        "colab_type": "code",
        "colab": {}
      },
      "cell_type": "code",
      "source": [
        "#Print each fruit in a fruit list:\n",
        "\n",
        "fruits = [\"apple\", \"banana\", \"cherry\"]\n",
        "for x in fruits:\n",
        "  print(x)\n",
        "  #The for loop does not require an indexing variable to set beforehand."
      ],
      "execution_count": 0,
      "outputs": []
    },
    {
      "metadata": {
        "id": "l2GeBJ3CGpCo",
        "colab_type": "text"
      },
      "cell_type": "markdown",
      "source": [
        "### Looping through a String\n",
        "Even strings are iterable objects, they contain a sequence of characters:"
      ]
    },
    {
      "metadata": {
        "id": "uT_wKBA9GtYB",
        "colab_type": "code",
        "colab": {}
      },
      "cell_type": "code",
      "source": [
        "#Loop through the letters in the word \"banana\":\n",
        "\n",
        "for x in \"banana\":\n",
        "  print(x)"
      ],
      "execution_count": 0,
      "outputs": []
    },
    {
      "metadata": {
        "id": "tjHOqKXFGwZD",
        "colab_type": "text"
      },
      "cell_type": "markdown",
      "source": [
        "### Break statement\n",
        "With the break statement we can stop the loop before it has looped through all the items:"
      ]
    },
    {
      "metadata": {
        "id": "kL77TbDaGyb9",
        "colab_type": "code",
        "colab": {}
      },
      "cell_type": "code",
      "source": [
        "#Exit the loop when x is \"banana\":\n",
        "\n",
        "fruits = [\"apple\", \"banana\", \"cherry\"]\n",
        "for x in fruits:\n",
        "  print(x) \n",
        "  if x == \"banana\":\n",
        "    break"
      ],
      "execution_count": 0,
      "outputs": []
    },
    {
      "metadata": {
        "id": "skjeP9rpG02V",
        "colab_type": "code",
        "colab": {}
      },
      "cell_type": "code",
      "source": [
        "#Exit the loop when x is \"banana\", but this time the break comes before the print:\n",
        "\n",
        "fruits = [\"apple\", \"banana\", \"cherry\"]\n",
        "for x in fruits:\n",
        "  if x == \"banana\":\n",
        "    break\n",
        "  print(x)"
      ],
      "execution_count": 0,
      "outputs": []
    },
    {
      "metadata": {
        "id": "dVkNv8b0G4fR",
        "colab_type": "text"
      },
      "cell_type": "markdown",
      "source": [
        "### Continue statement\n",
        "With the continue statement we can stop the current iteration of the loop, and continue with the next:"
      ]
    },
    {
      "metadata": {
        "id": "6iWzLKLnG6-s",
        "colab_type": "code",
        "colab": {}
      },
      "cell_type": "code",
      "source": [
        "#Do not print banana:\n",
        "\n",
        "fruits = [\"apple\", \"banana\", \"cherry\"]\n",
        "for x in fruits:\n",
        "  if x == \"banana\":\n",
        "    continue\n",
        "  print(x)"
      ],
      "execution_count": 0,
      "outputs": []
    },
    {
      "metadata": {
        "id": "CvGTk3yQG9ak",
        "colab_type": "text"
      },
      "cell_type": "markdown",
      "source": [
        "### The range() Function\n",
        "To loop through a set of code a specified number of times, we can use the range() function,\n",
        "The range() function returns a sequence of numbers, starting from 0 by default, and increments by 1 (by default), and ends at a specified number."
      ]
    },
    {
      "metadata": {
        "id": "jKvt42TGHBcD",
        "colab_type": "code",
        "colab": {}
      },
      "cell_type": "code",
      "source": [
        "#Using the range() function:\n",
        "\n",
        "for x in range(6):\n",
        "  print(x)\n",
        "\"\"\"Note that range(6) is not the values of 0 to 6, but the values 0 to 5.\n",
        "The range() function defaults to 0 as a starting value, \n",
        "however it is possible to specify the starting value by adding a parameter: range(2, 6),\n",
        "which means values from 2 to 6 (but not including 6):\"\"\"  "
      ],
      "execution_count": 0,
      "outputs": []
    },
    {
      "metadata": {
        "id": "FKpD7WLeHM5K",
        "colab_type": "code",
        "colab": {}
      },
      "cell_type": "code",
      "source": [
        "#Using the start parameter:\n",
        "\n",
        "for x in range(2, 6):\n",
        "  print(x)"
      ],
      "execution_count": 0,
      "outputs": []
    },
    {
      "metadata": {
        "id": "zQGxzP9vHQZm",
        "colab_type": "text"
      },
      "cell_type": "markdown",
      "source": [
        "The range() function defaults to increment the sequence by 1, however it is possible to specify the increment value by adding a third parameter: range(2, 30, 3):"
      ]
    },
    {
      "metadata": {
        "id": "9sAyWyGXHST4",
        "colab_type": "code",
        "colab": {}
      },
      "cell_type": "code",
      "source": [
        "#Increment the sequence with 3 (default is 1):\n",
        "\n",
        "for x in range(2, 30, 3):\n",
        "  print(x)"
      ],
      "execution_count": 0,
      "outputs": []
    },
    {
      "metadata": {
        "id": "rc3wyhiCHVqG",
        "colab_type": "text"
      },
      "cell_type": "markdown",
      "source": [
        "### Else in For Loop\n",
        "The else keyword in a for loop specifies a block of code to be executed when the loop is finished:"
      ]
    },
    {
      "metadata": {
        "id": "VCnU-maGHYdN",
        "colab_type": "code",
        "colab": {}
      },
      "cell_type": "code",
      "source": [
        "#Print all numbers from 0 to 5, and print a message when the loop has ended:\n",
        "\n",
        "for x in range(6):\n",
        "  print(x)\n",
        "else:\n",
        "  print(\"Finally finished!\")"
      ],
      "execution_count": 0,
      "outputs": []
    },
    {
      "metadata": {
        "id": "G4FEbefbHa-S",
        "colab_type": "text"
      },
      "cell_type": "markdown",
      "source": [
        "### Nested Loops\n",
        "A nested loop is a loop inside a loop.\n",
        "\n",
        "The \"inner loop\" will be executed one time for each iteration of the \"outer loop\":"
      ]
    },
    {
      "metadata": {
        "id": "ck4OvtD9HdPQ",
        "colab_type": "code",
        "colab": {}
      },
      "cell_type": "code",
      "source": [
        "#Print each adjective for every fruit:\n",
        "\n",
        "adj = [\"red\", \"big\", \"tasty\"]\n",
        "fruits = [\"apple\", \"banana\", \"cherry\"]\n",
        "\n",
        "for x in adj:\n",
        "  for y in fruits:\n",
        "    print(x, y)"
      ],
      "execution_count": 0,
      "outputs": []
    },
    {
      "metadata": {
        "id": "YM1UH0-NH3es",
        "colab_type": "text"
      },
      "cell_type": "markdown",
      "source": [
        "## 5. <a name=\"functions\"></a>Functions\n",
        "\n",
        "A function is a block of code which only runs when it is called. You can pass data, known as parameters, into a function.\n",
        "A function can return data as a result."
      ]
    },
    {
      "metadata": {
        "id": "pDm4pN21ICNb",
        "colab_type": "text"
      },
      "cell_type": "markdown",
      "source": [
        "### Creating a Function\n",
        "In Python a function is defined using the def keyword:\n",
        "\n"
      ]
    },
    {
      "metadata": {
        "id": "C6keKreGIEZs",
        "colab_type": "code",
        "colab": {}
      },
      "cell_type": "code",
      "source": [
        "def my_function():\n",
        "  print(\"Hello from a function\")"
      ],
      "execution_count": 0,
      "outputs": []
    },
    {
      "metadata": {
        "id": "XyK42uLXIGVV",
        "colab_type": "text"
      },
      "cell_type": "markdown",
      "source": [
        "### Calling a Function\n",
        "To call a function, use the function name followed by parenthesis:"
      ]
    },
    {
      "metadata": {
        "id": "9nVEyq_sIIKx",
        "colab_type": "code",
        "colab": {}
      },
      "cell_type": "code",
      "source": [
        "def my_function():\n",
        "  print(\"Hello from a function\")\n",
        "\n",
        "my_function()"
      ],
      "execution_count": 0,
      "outputs": []
    },
    {
      "metadata": {
        "id": "l1bxkFQtILIo",
        "colab_type": "text"
      },
      "cell_type": "markdown",
      "source": [
        "### Parameters\n",
        "Information can be passed to functions as parameter.\n",
        "\n",
        "Parameters are specified after the function name, inside the parentheses. You can add as many parameters as you want, just separate them with a comma.\n",
        "\n",
        "The following example has a function with one parameter (fname). When the function is called, we pass along a first name, which is used inside the function to print the full name:"
      ]
    },
    {
      "metadata": {
        "id": "omZX8YVWIOia",
        "colab_type": "code",
        "colab": {}
      },
      "cell_type": "code",
      "source": [
        "def my_function(fname):\n",
        "  print(fname + \" Refsnes\")\n",
        "\n",
        "my_function(\"Emil\")\n",
        "my_function(\"Tobias\")\n",
        "my_function(\"Linus\")"
      ],
      "execution_count": 0,
      "outputs": []
    },
    {
      "metadata": {
        "id": "Jqg4r4_bIRqS",
        "colab_type": "text"
      },
      "cell_type": "markdown",
      "source": [
        "### Default Parameter Value\n",
        "The following example shows how to use a default parameter value.\n",
        "\n",
        "If we call the function without parameter, it uses the default value:"
      ]
    },
    {
      "metadata": {
        "id": "vP2B4-EyITmq",
        "colab_type": "code",
        "colab": {}
      },
      "cell_type": "code",
      "source": [
        "def my_function(country = \"Norway\"):\n",
        "  print(\"I am from \" + country)\n",
        "\n",
        "my_function(\"Sweden\")\n",
        "my_function(\"India\")\n",
        "my_function()\n",
        "my_function(\"Brazil\")"
      ],
      "execution_count": 0,
      "outputs": []
    },
    {
      "metadata": {
        "id": "jPEP_gG_IXWq",
        "colab_type": "text"
      },
      "cell_type": "markdown",
      "source": [
        "### Return Values\n",
        "To let a function return a value, use the return statement:"
      ]
    },
    {
      "metadata": {
        "id": "awADYMwzIZK_",
        "colab_type": "code",
        "colab": {}
      },
      "cell_type": "code",
      "source": [
        "def my_function(x):\n",
        "  return 5 * x\n",
        "\n",
        "print(my_function(3))\n",
        "print(my_function(5))\n",
        "print(my_function(9))"
      ],
      "execution_count": 0,
      "outputs": []
    },
    {
      "metadata": {
        "id": "GFpHw3SsHf2o",
        "colab_type": "text"
      },
      "cell_type": "markdown",
      "source": [
        "## <a name=\"recursion\"></a> Recursion\n",
        "Python also allows function recursion, which means a defined function can call itself.\n",
        "\n",
        "Recursion is a common mathematical and programming concept. It means that a function calls itself. This has the benefit of meaning that you can loop through data to reach a result.\n",
        "\n",
        "The developer should be very careful with recursion as it can be quite easy to slip into writing a function which never terminates, or one that uses excess amounts of memory or processor power. However, when written correctly recursion can be a very efficient and mathematically-elegant approach to programming.\n",
        "\n",
        "In this example, tri_recursion() is a function that we have defined to call itself (\"recurse\"). We use the k variable as the data, which decrements (-1) every time we recurse. The recursion ends when the condition is not greater than 0 (i.e. when it is 0).\n",
        "\n",
        "To a new developer it can take some time to work out how exactly this works, best way to find out is by testing and modifying it."
      ]
    },
    {
      "metadata": {
        "id": "1YmepQ9PHit0",
        "colab_type": "code",
        "colab": {}
      },
      "cell_type": "code",
      "source": [
        "#Recursion Example\n",
        "\n",
        "def tri_recursion(k):\n",
        "  if(k>0):\n",
        "    result = k+tri_recursion(k-1)\n",
        "    print(\"When k =\",k,\"then result =\" ,result)\n",
        "  else:\n",
        "    result = 0\n",
        "  return result\n",
        "\n",
        "print(\"\\n\\nRecursion Example Results\")\n",
        "tri_recursion(6)"
      ],
      "execution_count": 0,
      "outputs": []
    },
    {
      "metadata": {
        "id": "H4jaLdP_IthU",
        "colab_type": "text"
      },
      "cell_type": "markdown",
      "source": [
        "## <a name=\"lambda\"></a>Python Lambda\n",
        "A lambda function is a small anonymous function.\n",
        "A lambda function can take any number of arguments, but can only have one expression."
      ]
    },
    {
      "metadata": {
        "id": "acU6QFYzIztJ",
        "colab_type": "text"
      },
      "cell_type": "markdown",
      "source": [
        "### Syntax\n",
        "+ lambda arguments : expression\n",
        "\n",
        "The expression is executed and the result is returned:"
      ]
    },
    {
      "metadata": {
        "id": "vlzDGmT8I8GU",
        "colab_type": "code",
        "colab": {}
      },
      "cell_type": "code",
      "source": [
        "# A lambda function that adds 10 to the number passed in as an argument, and print the result:\n",
        "\n",
        "x = lambda a : a + 10\n",
        "print(x(5))"
      ],
      "execution_count": 0,
      "outputs": []
    },
    {
      "metadata": {
        "id": "XyOpvFRbI_sd",
        "colab_type": "text"
      },
      "cell_type": "markdown",
      "source": [
        "Lambda functions can take any number of arguments:"
      ]
    },
    {
      "metadata": {
        "id": "SOBAVlZaJCIx",
        "colab_type": "code",
        "colab": {}
      },
      "cell_type": "code",
      "source": [
        "#A lambda function that multiplies argument a with argument b and print the result:\n",
        "\n",
        "x = lambda a, b : a * b\n",
        "print(x(5, 6))"
      ],
      "execution_count": 0,
      "outputs": []
    },
    {
      "metadata": {
        "id": "B8WM5ihcJEpm",
        "colab_type": "code",
        "colab": {}
      },
      "cell_type": "code",
      "source": [
        "#A lambda function that sums argument a, b, and c and print the result:\n",
        "\n",
        "x = lambda a, b, c : a + b + c\n",
        "print(x(5, 6, 2))"
      ],
      "execution_count": 0,
      "outputs": []
    },
    {
      "metadata": {
        "id": "UhRgwBm0JGsO",
        "colab_type": "text"
      },
      "cell_type": "markdown",
      "source": [
        "##Why Use Lambda Functions?\n",
        "The power of lambda is better shown when you use them as an anonymous function inside another function.\n",
        "\n",
        "Say you have a function definition that takes one argument, and that argument will be multiplied with an unknown number:"
      ]
    },
    {
      "metadata": {
        "id": "SlbPar7mJPPA",
        "colab_type": "code",
        "colab": {}
      },
      "cell_type": "code",
      "source": [
        "def myfunc(n):\n",
        "  return lambda a : a * n"
      ],
      "execution_count": 0,
      "outputs": []
    },
    {
      "metadata": {
        "id": "s_5GJ2sxJKgD",
        "colab_type": "text"
      },
      "cell_type": "markdown",
      "source": [
        "Use that function definition to make a function that always doubles the number you send in:\n",
        "\n"
      ]
    },
    {
      "metadata": {
        "id": "5utpPg8BJRs2",
        "colab_type": "code",
        "colab": {}
      },
      "cell_type": "code",
      "source": [
        "def myfunc(n):\n",
        "  return lambda a : a * n\n",
        "\n",
        "mydoubler = myfunc(2)\n",
        "\n",
        "print(mydoubler(11))"
      ],
      "execution_count": 0,
      "outputs": []
    },
    {
      "metadata": {
        "id": "0V-RSwPCJTRp",
        "colab_type": "text"
      },
      "cell_type": "markdown",
      "source": [
        "Or, use the same function definition to make a function that always triples the number you send in:\n",
        "\n"
      ]
    },
    {
      "metadata": {
        "id": "0QyN6zEYJVNR",
        "colab_type": "code",
        "colab": {}
      },
      "cell_type": "code",
      "source": [
        "def myfunc(n):\n",
        "  return lambda a : a * n\n",
        "\n",
        "mytripler = myfunc(3)\n",
        "\n",
        "print(mytripler(11))"
      ],
      "execution_count": 0,
      "outputs": []
    },
    {
      "metadata": {
        "id": "WrNZUucpJXQY",
        "colab_type": "text"
      },
      "cell_type": "markdown",
      "source": [
        "Or, use the same function definition to make both functions, in the same program:\n",
        "\n"
      ]
    },
    {
      "metadata": {
        "id": "zCU2SX4iJaGD",
        "colab_type": "code",
        "colab": {}
      },
      "cell_type": "code",
      "source": [
        "def myfunc(n):\n",
        "  return lambda a : a * n\n",
        "\n",
        "mydoubler = myfunc(2)\n",
        "mytripler = myfunc(3)\n",
        "\n",
        "print(mydoubler(11)) \n",
        "print(mytripler(11))"
      ],
      "execution_count": 0,
      "outputs": []
    },
    {
      "metadata": {
        "id": "HnV7tnv-Jbmb",
        "colab_type": "text"
      },
      "cell_type": "markdown",
      "source": [
        "**Use lambda functions when an anonymous function is required for a short period of time.**\n",
        "\n"
      ]
    },
    {
      "metadata": {
        "colab_type": "text",
        "id": "q7RW7gNLvkBn"
      },
      "cell_type": "markdown",
      "source": [
        "**[Go to Top](#table)**"
      ]
    }
  ]
}